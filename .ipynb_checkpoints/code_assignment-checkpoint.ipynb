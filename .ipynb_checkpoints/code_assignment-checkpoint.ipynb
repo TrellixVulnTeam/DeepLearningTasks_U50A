{
 "cells": [
  {
   "cell_type": "code",
   "execution_count": 4,
   "metadata": {},
   "outputs": [],
   "source": [
    "import random\n",
    "import numpy as np\n",
    "from data_process import get_CIFAR10_data\n",
    "from scipy.spatial import distance\n",
    "%matplotlib inline\n",
    "from save_submission import output_submission_csv"
   ]
  },
  {
   "cell_type": "markdown",
   "metadata": {},
   "source": [
    "# Loading CIFAR-10"
   ]
  },
  {
   "cell_type": "markdown",
   "metadata": {},
   "source": [
    "In the following cells we determine the number of images for each split and load the images.\n",
    "<br /> \n",
    "TRAIN_IMAGES + VAL_IMAGES = (0, 50000]\n",
    ", TEST_IMAGES = 10000"
   ]
  },
  {
   "cell_type": "code",
   "execution_count": 5,
   "metadata": {},
   "outputs": [],
   "source": [
    "# You can change these numbers for experimentation\n",
    "# For submission we will use the default values \n",
    "TRAIN_IMAGES = 40000\n",
    "VAL_IMAGES = 10000"
   ]
  },
  {
   "cell_type": "code",
   "execution_count": 6,
   "metadata": {},
   "outputs": [],
   "source": [
    "data = get_CIFAR10_data(TRAIN_IMAGES, VAL_IMAGES)\n",
    "X_train_CIFAR, y_train_CIFAR = data['X_train'], data['y_train']\n",
    "X_val_CIFAR, y_val_CIFAR = data['X_val'], data['y_val']\n",
    "X_test_CIFAR, y_test_CIFAR = data['X_test'], data['y_test']\n",
    "n_class_CIFAR = len(np.unique(y_test_CIFAR))"
   ]
  },
  {
   "cell_type": "markdown",
   "metadata": {},
   "source": [
    "Convert the sets of images from dimensions of **(N, 3, 32, 32) -> (N, 3072)** where N is the number of images so that each **3x32x32** image is represented by a single vector."
   ]
  },
  {
   "cell_type": "code",
   "execution_count": 7,
   "metadata": {},
   "outputs": [],
   "source": [
    "X_train_CIFAR = np.reshape(X_train_CIFAR, (X_train_CIFAR.shape[0], -1))\n",
    "X_val_CIFAR = np.reshape(X_val_CIFAR, (X_val_CIFAR.shape[0], -1))\n",
    "X_test_CIFAR = np.reshape(X_test_CIFAR, (X_test_CIFAR.shape[0], -1))"
   ]
  },
  {
   "cell_type": "markdown",
   "metadata": {},
   "source": [
    "# Perceptron"
   ]
  },
  {
   "cell_type": "markdown",
   "metadata": {},
   "source": [
    "Perceptron has 2 hyperparameters that you can experiment with:\n",
    "- **Learning rate** - controls how much we change the current weights of the classifier during each update. We set it at a default value of 0.5, but you should experiment with different values. We recommend changing the learning rate by factors of 10 and observing how the performance of the classifier changes. You should also try adding a **decay** which slowly reduces the learning rate over each epoch.\n",
    "- **Number of Epochs** - An epoch is a complete iterative pass over all of the data in the dataset. During an epoch we predict a label using the classifier and then update the weights of the classifier according the perceptron update rule for each sample in the training set. You should try different values for the number of training epochs and report your results."
   ]
  },
  {
   "cell_type": "markdown",
   "metadata": {},
   "source": [
    "You will implement the Perceptron classifier in the **models/Perceptron.py**\n",
    "\n",
    "The following code: \n",
    "- Creates an instance of the Perceptron classifier class \n",
    "- The train function of the Perceptron class is trained on the training data\n",
    "- We use the predict function to find the training accuracy as well as the testing accuracy\n"
   ]
  },
  {
   "cell_type": "markdown",
   "metadata": {},
   "source": [
    "# Model Perceptron"
   ]
  },
  {
   "cell_type": "code",
   "execution_count": 10,
   "metadata": {},
   "outputs": [],
   "source": [
    "import numpy as np\n",
    "\n",
    "\n",
    "class Perceptron:\n",
    "    def __init__(self, n_class: int, lr: float, epochs: int):\n",
    "        \"\"\"Initialize a new classifier.\n",
    "        Parameters:\n",
    "            n_class: the number of classes\n",
    "            lr: the learning rate\n",
    "            epochs: the number of epochs to train for\n",
    "        \"\"\"\n",
    "        self.lr = lr\n",
    "        self.epochs = epochs\n",
    "        self.n_class = n_class\n",
    "\n",
    "    def train(self, X_train: np.ndarray, y_train: np.ndarray):\n",
    "        \"\"\"Train the classifier.\n",
    "        Use the perceptron update rule as introduced in Lecture 3.\n",
    "        Parameters:\n",
    "            X_train: a number array of shape (N, D) containing training data;\n",
    "                N examples with D dimensions\n",
    "            y_train: a numpy array of shape (N,) containing training labels\n",
    "        \"\"\"\n",
    "        N, D = X_train.shape\n",
    "        self.w = np.random.randn(self.n_class, D)\n",
    "\n",
    "        for e in range(self.epochs):\n",
    "            for x, target in zip(X, y):\n",
    "                update = self.lr * (target - self.predict(x))\n",
    "                self.w[1:] += update * x\n",
    "                self.w[0] += update\n",
    "            return self\n",
    "                \n",
    "        pass\n",
    "\n",
    "    def predict(self, X_test: np.ndarray) -> np.ndarray:\n",
    "        \"\"\"Use the trained weights to predict labels for test data points.\n",
    "        Parameters:\n",
    "            X_test: a numpy array of shape (N, D) containing testing data;\n",
    "                N examples with D dimensions\n",
    "        Returns:\n",
    "            predicted labels for the data in X_test; a 1-dimensional array of\n",
    "                length N, where each element is an integer giving the predicted\n",
    "                class.\n",
    "        \"\"\"\n",
    "        N, D = X_test.shape\n",
    "        y_test = np.zeros(N)\n",
    "        \n",
    "        return y_test"
   ]
  },
  {
   "cell_type": "markdown",
   "metadata": {},
   "source": [
    "## Train Perceptron on CIFAR"
   ]
  },
  {
   "cell_type": "code",
   "execution_count": null,
   "metadata": {},
   "outputs": [],
   "source": [
    "lr = 0.5\n",
    "n_epochs = 25\n",
    "\n",
    "percept_CIFAR = Perceptron(n_class_CIFAR, lr, n_epochs)\n",
    "percept_CIFAR.train(X_train_CIFAR, y_train_CIFAR)"
   ]
  },
  {
   "cell_type": "code",
   "execution_count": null,
   "metadata": {},
   "outputs": [],
   "source": [
    "pred_percept = percept_CIFAR.predict(X_train_CIFAR)\n",
    "print('The training accuracy is given by: %f' % (get_acc(pred_percept, y_train_CIFAR)))"
   ]
  },
  {
   "cell_type": "markdown",
   "metadata": {},
   "source": [
    "### Validate Perceptron on CIFAR"
   ]
  },
  {
   "cell_type": "code",
   "execution_count": null,
   "metadata": {},
   "outputs": [],
   "source": [
    "pred_percept = percept_CIFAR.predict(X_val_CIFAR)\n",
    "print('The validation accuracy is given by: %f' % (get_acc(pred_percept, y_val_CIFAR)))"
   ]
  },
  {
   "cell_type": "markdown",
   "metadata": {},
   "source": [
    "### Test Perceptron on CIFAR"
   ]
  },
  {
   "cell_type": "code",
   "execution_count": null,
   "metadata": {},
   "outputs": [],
   "source": [
    "pred_percept = percept_CIFAR.predict(X_test_CIFAR)\n",
    "print('The testing accuracy is given by: %f' % (get_acc(pred_percept, y_test_CIFAR)))"
   ]
  },
  {
   "cell_type": "code",
   "execution_count": null,
   "metadata": {},
   "outputs": [],
   "source": [
    "output_submission_csv('output/Logistic_submission_CIFAR.csv', percept_CIFAR.predict(X_test_CIFAR))"
   ]
  },
  {
   "cell_type": "markdown",
   "metadata": {},
   "source": [
    "# Logistic Classifier"
   ]
  },
  {
   "cell_type": "markdown",
   "metadata": {},
   "source": [
    "The Logistic Classifier has 2 hyperparameters that you can experiment with:\n",
    "- **Learning rate** - similar to as defined above in Perceptron, this parameter scales by how much the weights are changed according to the calculated gradient update. \n",
    "- **Number of Epochs** - As described for perceptron.\n",
    "\n"
   ]
  },
  {
   "cell_type": "markdown",
   "metadata": {},
   "source": [
    "You will implement the Logistic Classifier in the **models/Logistic.py**\n",
    "\n",
    "The following code: \n",
    "- Creates an instance of the Logistic classifier class \n",
    "- The train function of the Logistic class is trained on the training data\n",
    "- We use the predict function to find the training accuracy as well as the testing accuracy"
   ]
  },
  {
   "cell_type": "code",
   "execution_count": 13,
   "metadata": {},
   "outputs": [],
   "source": [
    "\"\"\"Logistic regression model.\"\"\"\n",
    "\n",
    "import numpy as np\n",
    "import math\n",
    "\n",
    "\n",
    "class Logistic:\n",
    "    def __init__(self, lr: float, epochs: int):\n",
    "        \"\"\"Initialize a new classifier.\n",
    "        Parameters:\n",
    "            lr: the learning rate\n",
    "            epochs: the number of epochs to train for\n",
    "        \"\"\"\n",
    "        self.lr = lr\n",
    "        self.epochs = epochs\n",
    "\n",
    "    def sigmoid(self, z: np.ndarray) -> np.ndarray:\n",
    "        \"\"\"Sigmoid function.\n",
    "        Parameters:\n",
    "            z: the input\n",
    "        Returns:\n",
    "            the sigmoid of the input\n",
    "        \"\"\"\n",
    "        ret = 1 / (1 + np.exp(-z))\n",
    "        return ret\n",
    "\n",
    "    def train(self, X_train: np.ndarray, y_train: np.ndarray):\n",
    "        \"\"\"Train the classifier.\n",
    "        Use the logistic regression update rule as introduced in lecture.\n",
    "        Parameters:\n",
    "            X_train: a numpy array of shape (N, D) containing training data;\n",
    "                N examples with D dimensions\n",
    "            y_train: a numpy array of shape (N,) containing training labels\n",
    "        \"\"\"\n",
    "        N, D = X_train.shape\n",
    "        weights = np.random.randn(1, D)\n",
    "        self.w = weights\n",
    "\n",
    "        for e in range(self.epochs):\n",
    "            pred = self.sigmoid(np.dot(X_train, weights))\n",
    "            weights -= self.lr * np.dot(X.T,  pred - y_train) / N\n",
    "           \n",
    "        self.w = weights\n",
    "        pass\n",
    "\n",
    "    def predict(self, X_test: np.ndarray) -> np.ndarray:\n",
    "        \"\"\"Use the trained weights to predict labels for test data points.\n",
    "        Parameters:\n",
    "            X_test: a numpy array of shape (N, D) containing testing data;\n",
    "                N examples with D dimensions\n",
    "        Returns:\n",
    "            predicted labels for the data in X_test; a 1-dimensional array of\n",
    "                length N, where each element is an integer giving the predicted\n",
    "                class.\n",
    "        \"\"\"\n",
    "        N, D = X_test.shape\n",
    "        result = np.dot(X_test, self.w)\n",
    "        res = [1 if i > 0.5 else 0 for i in self.sigmoid(result)]\n",
    "        return res"
   ]
  },
  {
   "cell_type": "markdown",
   "metadata": {},
   "source": [
    "### Training Logistic Classifer"
   ]
  },
  {
   "cell_type": "code",
   "execution_count": 14,
   "metadata": {},
   "outputs": [
    {
     "ename": "ValueError",
     "evalue": "shapes (40000,3072) and (1,3072) not aligned: 3072 (dim 1) != 1 (dim 0)",
     "output_type": "error",
     "traceback": [
      "\u001b[1;31m---------------------------------------------------------------------------\u001b[0m",
      "\u001b[1;31mValueError\u001b[0m                                Traceback (most recent call last)",
      "\u001b[1;32m<ipython-input-14-ee73de7fd70a>\u001b[0m in \u001b[0;36m<module>\u001b[1;34m\u001b[0m\n\u001b[0;32m      3\u001b[0m \u001b[1;33m\u001b[0m\u001b[0m\n\u001b[0;32m      4\u001b[0m \u001b[0mlr\u001b[0m \u001b[1;33m=\u001b[0m \u001b[0mLogistic\u001b[0m\u001b[1;33m(\u001b[0m\u001b[0mlearning_rate\u001b[0m\u001b[1;33m,\u001b[0m \u001b[0mn_epochs\u001b[0m\u001b[1;33m)\u001b[0m\u001b[1;33m\u001b[0m\u001b[1;33m\u001b[0m\u001b[0m\n\u001b[1;32m----> 5\u001b[1;33m \u001b[0mlr\u001b[0m\u001b[1;33m.\u001b[0m\u001b[0mtrain\u001b[0m\u001b[1;33m(\u001b[0m\u001b[0mX_train_CIFAR\u001b[0m\u001b[1;33m,\u001b[0m \u001b[0my_train_CIFAR\u001b[0m\u001b[1;33m)\u001b[0m\u001b[1;33m\u001b[0m\u001b[1;33m\u001b[0m\u001b[0m\n\u001b[0m",
      "\u001b[1;32m<ipython-input-13-808b4a12bc5b>\u001b[0m in \u001b[0;36mtrain\u001b[1;34m(self, X_train, y_train)\u001b[0m\n\u001b[0;32m     38\u001b[0m \u001b[1;33m\u001b[0m\u001b[0m\n\u001b[0;32m     39\u001b[0m         \u001b[1;32mfor\u001b[0m \u001b[0me\u001b[0m \u001b[1;32min\u001b[0m \u001b[0mrange\u001b[0m\u001b[1;33m(\u001b[0m\u001b[0mself\u001b[0m\u001b[1;33m.\u001b[0m\u001b[0mepochs\u001b[0m\u001b[1;33m)\u001b[0m\u001b[1;33m:\u001b[0m\u001b[1;33m\u001b[0m\u001b[1;33m\u001b[0m\u001b[0m\n\u001b[1;32m---> 40\u001b[1;33m             \u001b[0mpred\u001b[0m \u001b[1;33m=\u001b[0m \u001b[0mself\u001b[0m\u001b[1;33m.\u001b[0m\u001b[0msigmoid\u001b[0m\u001b[1;33m(\u001b[0m\u001b[0mnp\u001b[0m\u001b[1;33m.\u001b[0m\u001b[0mdot\u001b[0m\u001b[1;33m(\u001b[0m\u001b[0mX_train\u001b[0m\u001b[1;33m,\u001b[0m \u001b[0mweights\u001b[0m\u001b[1;33m)\u001b[0m\u001b[1;33m)\u001b[0m\u001b[1;33m\u001b[0m\u001b[1;33m\u001b[0m\u001b[0m\n\u001b[0m\u001b[0;32m     41\u001b[0m             \u001b[0mweights\u001b[0m \u001b[1;33m-=\u001b[0m \u001b[0mself\u001b[0m\u001b[1;33m.\u001b[0m\u001b[0mlr\u001b[0m \u001b[1;33m*\u001b[0m \u001b[0mnp\u001b[0m\u001b[1;33m.\u001b[0m\u001b[0mdot\u001b[0m\u001b[1;33m(\u001b[0m\u001b[0mX\u001b[0m\u001b[1;33m.\u001b[0m\u001b[0mT\u001b[0m\u001b[1;33m,\u001b[0m  \u001b[0mpred\u001b[0m \u001b[1;33m-\u001b[0m \u001b[0my_train\u001b[0m\u001b[1;33m)\u001b[0m \u001b[1;33m/\u001b[0m \u001b[0mN\u001b[0m\u001b[1;33m\u001b[0m\u001b[1;33m\u001b[0m\u001b[0m\n\u001b[0;32m     42\u001b[0m \u001b[1;33m\u001b[0m\u001b[0m\n",
      "\u001b[1;32mD:\\Anaconda\\lib\\site-packages\\numpy\\core\\overrides.py\u001b[0m in \u001b[0;36mdot\u001b[1;34m(*args, **kwargs)\u001b[0m\n",
      "\u001b[1;31mValueError\u001b[0m: shapes (40000,3072) and (1,3072) not aligned: 3072 (dim 1) != 1 (dim 0)"
     ]
    }
   ],
   "source": [
    "learning_rate = 0.5\n",
    "n_epochs = 25\n",
    "\n",
    "lr = Logistic(learning_rate, n_epochs)\n",
    "lr.train(X_train_CIFAR, y_train_CIFAR)"
   ]
  },
  {
   "cell_type": "code",
   "execution_count": null,
   "metadata": {},
   "outputs": [],
   "source": [
    "pred_lr = lr.predict(X_train_CIFAR)\n",
    "print('The training accuracy is given by: %f' % (get_acc(pred_lr, y_train_CIFAR)))"
   ]
  },
  {
   "cell_type": "markdown",
   "metadata": {},
   "source": [
    "### Validate Logistic Classifer"
   ]
  },
  {
   "cell_type": "code",
   "execution_count": null,
   "metadata": {},
   "outputs": [],
   "source": [
    "pred_lr = lr.predict(X_val_CIFAR)\n",
    "print('The validation accuracy is given by: %f' % (get_acc(pred_lr, y_val_CIFAR)))"
   ]
  },
  {
   "cell_type": "markdown",
   "metadata": {},
   "source": [
    "### Test Logistic Classifier"
   ]
  },
  {
   "cell_type": "code",
   "execution_count": null,
   "metadata": {},
   "outputs": [],
   "source": [
    "pred_lr = lr.predict(X_test_CIFAR)\n",
    "print('The testing accuracy is given by: %f' % (get_acc(pred_lr, y_test_CIFAR)))\n",
    "\n",
    "lr\n",
    "\n",
    "output_submission_csv('output/Logistic_submission_CIFAR.csv', lr.predict(X_test_CIFAR))"
   ]
  }
 ],
 "metadata": {
  "kernelspec": {
   "display_name": "Python 3",
   "language": "python",
   "name": "python3"
  },
  "language_info": {
   "codemirror_mode": {
    "name": "ipython",
    "version": 3
   },
   "file_extension": ".py",
   "mimetype": "text/x-python",
   "name": "python",
   "nbconvert_exporter": "python",
   "pygments_lexer": "ipython3",
   "version": "3.8.8"
  }
 },
 "nbformat": 4,
 "nbformat_minor": 1
}
